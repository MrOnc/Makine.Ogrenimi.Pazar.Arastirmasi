{
 "cells": [
  {
   "attachments": {},
   "cell_type": "markdown",
   "metadata": {},
   "source": [
    "### Çalışmanın Amacı : Burma ülkesinde faaliyetini sürdüren bir istatistik ve reklam ajansı olası üretici, dağıtıcı ve parakende satıcı müşterilerine bilgi sağlayabilmek.\n",
    "### Veri Seti : Ülke genelinde faaliyet gösteren süpermarket zincirinin, ülkedeki en büyük 3 şehirdeki 1000 satışlık verileri. "
   ]
  },
  {
   "cell_type": "code",
   "execution_count": 120,
   "metadata": {},
   "outputs": [],
   "source": [
    "import pandas as pd\n",
    "from sklearn.model_selection import train_test_split\n",
    "from sklearn.preprocessing import LabelEncoder\n",
    "from sklearn.ensemble import RandomForestClassifier\n",
    "from sklearn.metrics import accuracy_score"
   ]
  },
  {
   "cell_type": "code",
   "execution_count": 121,
   "metadata": {},
   "outputs": [
    {
     "data": {
      "text/html": [
       "<div>\n",
       "<style scoped>\n",
       "    .dataframe tbody tr th:only-of-type {\n",
       "        vertical-align: middle;\n",
       "    }\n",
       "\n",
       "    .dataframe tbody tr th {\n",
       "        vertical-align: top;\n",
       "    }\n",
       "\n",
       "    .dataframe thead th {\n",
       "        text-align: right;\n",
       "    }\n",
       "</style>\n",
       "<table border=\"1\" class=\"dataframe\">\n",
       "  <thead>\n",
       "    <tr style=\"text-align: right;\">\n",
       "      <th></th>\n",
       "      <th>Branch</th>\n",
       "      <th>City</th>\n",
       "      <th>Customer type</th>\n",
       "      <th>Gender</th>\n",
       "      <th>Product line</th>\n",
       "      <th>Unit price</th>\n",
       "      <th>Quantity</th>\n",
       "      <th>Tax 5%</th>\n",
       "      <th>Total</th>\n",
       "      <th>Date</th>\n",
       "      <th>Time</th>\n",
       "      <th>Payment</th>\n",
       "      <th>cogs</th>\n",
       "      <th>gross margin percentage</th>\n",
       "      <th>gross income</th>\n",
       "      <th>Rating</th>\n",
       "    </tr>\n",
       "    <tr>\n",
       "      <th>Invoice ID</th>\n",
       "      <th></th>\n",
       "      <th></th>\n",
       "      <th></th>\n",
       "      <th></th>\n",
       "      <th></th>\n",
       "      <th></th>\n",
       "      <th></th>\n",
       "      <th></th>\n",
       "      <th></th>\n",
       "      <th></th>\n",
       "      <th></th>\n",
       "      <th></th>\n",
       "      <th></th>\n",
       "      <th></th>\n",
       "      <th></th>\n",
       "      <th></th>\n",
       "    </tr>\n",
       "  </thead>\n",
       "  <tbody>\n",
       "    <tr>\n",
       "      <th>750-67-8428</th>\n",
       "      <td>A</td>\n",
       "      <td>Yangon</td>\n",
       "      <td>Member</td>\n",
       "      <td>Female</td>\n",
       "      <td>Health and beauty</td>\n",
       "      <td>74.69</td>\n",
       "      <td>7</td>\n",
       "      <td>26.1415</td>\n",
       "      <td>548.9715</td>\n",
       "      <td>1/5/2019</td>\n",
       "      <td>13:08</td>\n",
       "      <td>Ewallet</td>\n",
       "      <td>522.83</td>\n",
       "      <td>4.761905</td>\n",
       "      <td>26.1415</td>\n",
       "      <td>9.1</td>\n",
       "    </tr>\n",
       "    <tr>\n",
       "      <th>226-31-3081</th>\n",
       "      <td>C</td>\n",
       "      <td>Naypyitaw</td>\n",
       "      <td>Normal</td>\n",
       "      <td>Female</td>\n",
       "      <td>Electronic accessories</td>\n",
       "      <td>15.28</td>\n",
       "      <td>5</td>\n",
       "      <td>3.8200</td>\n",
       "      <td>80.2200</td>\n",
       "      <td>3/8/2019</td>\n",
       "      <td>10:29</td>\n",
       "      <td>Cash</td>\n",
       "      <td>76.40</td>\n",
       "      <td>4.761905</td>\n",
       "      <td>3.8200</td>\n",
       "      <td>9.6</td>\n",
       "    </tr>\n",
       "    <tr>\n",
       "      <th>631-41-3108</th>\n",
       "      <td>A</td>\n",
       "      <td>Yangon</td>\n",
       "      <td>Normal</td>\n",
       "      <td>Male</td>\n",
       "      <td>Home and lifestyle</td>\n",
       "      <td>46.33</td>\n",
       "      <td>7</td>\n",
       "      <td>16.2155</td>\n",
       "      <td>340.5255</td>\n",
       "      <td>3/3/2019</td>\n",
       "      <td>13:23</td>\n",
       "      <td>Credit card</td>\n",
       "      <td>324.31</td>\n",
       "      <td>4.761905</td>\n",
       "      <td>16.2155</td>\n",
       "      <td>7.4</td>\n",
       "    </tr>\n",
       "    <tr>\n",
       "      <th>123-19-1176</th>\n",
       "      <td>A</td>\n",
       "      <td>Yangon</td>\n",
       "      <td>Member</td>\n",
       "      <td>Male</td>\n",
       "      <td>Health and beauty</td>\n",
       "      <td>58.22</td>\n",
       "      <td>8</td>\n",
       "      <td>23.2880</td>\n",
       "      <td>489.0480</td>\n",
       "      <td>1/27/2019</td>\n",
       "      <td>20:33</td>\n",
       "      <td>Ewallet</td>\n",
       "      <td>465.76</td>\n",
       "      <td>4.761905</td>\n",
       "      <td>23.2880</td>\n",
       "      <td>8.4</td>\n",
       "    </tr>\n",
       "    <tr>\n",
       "      <th>373-73-7910</th>\n",
       "      <td>A</td>\n",
       "      <td>Yangon</td>\n",
       "      <td>Normal</td>\n",
       "      <td>Male</td>\n",
       "      <td>Sports and travel</td>\n",
       "      <td>86.31</td>\n",
       "      <td>7</td>\n",
       "      <td>30.2085</td>\n",
       "      <td>634.3785</td>\n",
       "      <td>2/8/2019</td>\n",
       "      <td>10:37</td>\n",
       "      <td>Ewallet</td>\n",
       "      <td>604.17</td>\n",
       "      <td>4.761905</td>\n",
       "      <td>30.2085</td>\n",
       "      <td>5.3</td>\n",
       "    </tr>\n",
       "    <tr>\n",
       "      <th>...</th>\n",
       "      <td>...</td>\n",
       "      <td>...</td>\n",
       "      <td>...</td>\n",
       "      <td>...</td>\n",
       "      <td>...</td>\n",
       "      <td>...</td>\n",
       "      <td>...</td>\n",
       "      <td>...</td>\n",
       "      <td>...</td>\n",
       "      <td>...</td>\n",
       "      <td>...</td>\n",
       "      <td>...</td>\n",
       "      <td>...</td>\n",
       "      <td>...</td>\n",
       "      <td>...</td>\n",
       "      <td>...</td>\n",
       "    </tr>\n",
       "    <tr>\n",
       "      <th>233-67-5758</th>\n",
       "      <td>C</td>\n",
       "      <td>Naypyitaw</td>\n",
       "      <td>Normal</td>\n",
       "      <td>Male</td>\n",
       "      <td>Health and beauty</td>\n",
       "      <td>40.35</td>\n",
       "      <td>1</td>\n",
       "      <td>2.0175</td>\n",
       "      <td>42.3675</td>\n",
       "      <td>1/29/2019</td>\n",
       "      <td>13:46</td>\n",
       "      <td>Ewallet</td>\n",
       "      <td>40.35</td>\n",
       "      <td>4.761905</td>\n",
       "      <td>2.0175</td>\n",
       "      <td>6.2</td>\n",
       "    </tr>\n",
       "    <tr>\n",
       "      <th>303-96-2227</th>\n",
       "      <td>B</td>\n",
       "      <td>Mandalay</td>\n",
       "      <td>Normal</td>\n",
       "      <td>Female</td>\n",
       "      <td>Home and lifestyle</td>\n",
       "      <td>97.38</td>\n",
       "      <td>10</td>\n",
       "      <td>48.6900</td>\n",
       "      <td>1022.4900</td>\n",
       "      <td>3/2/2019</td>\n",
       "      <td>17:16</td>\n",
       "      <td>Ewallet</td>\n",
       "      <td>973.80</td>\n",
       "      <td>4.761905</td>\n",
       "      <td>48.6900</td>\n",
       "      <td>4.4</td>\n",
       "    </tr>\n",
       "    <tr>\n",
       "      <th>727-02-1313</th>\n",
       "      <td>A</td>\n",
       "      <td>Yangon</td>\n",
       "      <td>Member</td>\n",
       "      <td>Male</td>\n",
       "      <td>Food and beverages</td>\n",
       "      <td>31.84</td>\n",
       "      <td>1</td>\n",
       "      <td>1.5920</td>\n",
       "      <td>33.4320</td>\n",
       "      <td>2/9/2019</td>\n",
       "      <td>13:22</td>\n",
       "      <td>Cash</td>\n",
       "      <td>31.84</td>\n",
       "      <td>4.761905</td>\n",
       "      <td>1.5920</td>\n",
       "      <td>7.7</td>\n",
       "    </tr>\n",
       "    <tr>\n",
       "      <th>347-56-2442</th>\n",
       "      <td>A</td>\n",
       "      <td>Yangon</td>\n",
       "      <td>Normal</td>\n",
       "      <td>Male</td>\n",
       "      <td>Home and lifestyle</td>\n",
       "      <td>65.82</td>\n",
       "      <td>1</td>\n",
       "      <td>3.2910</td>\n",
       "      <td>69.1110</td>\n",
       "      <td>2/22/2019</td>\n",
       "      <td>15:33</td>\n",
       "      <td>Cash</td>\n",
       "      <td>65.82</td>\n",
       "      <td>4.761905</td>\n",
       "      <td>3.2910</td>\n",
       "      <td>4.1</td>\n",
       "    </tr>\n",
       "    <tr>\n",
       "      <th>849-09-3807</th>\n",
       "      <td>A</td>\n",
       "      <td>Yangon</td>\n",
       "      <td>Member</td>\n",
       "      <td>Female</td>\n",
       "      <td>Fashion accessories</td>\n",
       "      <td>88.34</td>\n",
       "      <td>7</td>\n",
       "      <td>30.9190</td>\n",
       "      <td>649.2990</td>\n",
       "      <td>2/18/2019</td>\n",
       "      <td>13:28</td>\n",
       "      <td>Cash</td>\n",
       "      <td>618.38</td>\n",
       "      <td>4.761905</td>\n",
       "      <td>30.9190</td>\n",
       "      <td>6.6</td>\n",
       "    </tr>\n",
       "  </tbody>\n",
       "</table>\n",
       "<p>1000 rows × 16 columns</p>\n",
       "</div>"
      ],
      "text/plain": [
       "            Branch       City Customer type  Gender            Product line   \n",
       "Invoice ID                                                                    \n",
       "750-67-8428      A     Yangon        Member  Female       Health and beauty  \\\n",
       "226-31-3081      C  Naypyitaw        Normal  Female  Electronic accessories   \n",
       "631-41-3108      A     Yangon        Normal    Male      Home and lifestyle   \n",
       "123-19-1176      A     Yangon        Member    Male       Health and beauty   \n",
       "373-73-7910      A     Yangon        Normal    Male       Sports and travel   \n",
       "...            ...        ...           ...     ...                     ...   \n",
       "233-67-5758      C  Naypyitaw        Normal    Male       Health and beauty   \n",
       "303-96-2227      B   Mandalay        Normal  Female      Home and lifestyle   \n",
       "727-02-1313      A     Yangon        Member    Male      Food and beverages   \n",
       "347-56-2442      A     Yangon        Normal    Male      Home and lifestyle   \n",
       "849-09-3807      A     Yangon        Member  Female     Fashion accessories   \n",
       "\n",
       "             Unit price  Quantity   Tax 5%      Total       Date   Time   \n",
       "Invoice ID                                                                \n",
       "750-67-8428       74.69         7  26.1415   548.9715   1/5/2019  13:08  \\\n",
       "226-31-3081       15.28         5   3.8200    80.2200   3/8/2019  10:29   \n",
       "631-41-3108       46.33         7  16.2155   340.5255   3/3/2019  13:23   \n",
       "123-19-1176       58.22         8  23.2880   489.0480  1/27/2019  20:33   \n",
       "373-73-7910       86.31         7  30.2085   634.3785   2/8/2019  10:37   \n",
       "...                 ...       ...      ...        ...        ...    ...   \n",
       "233-67-5758       40.35         1   2.0175    42.3675  1/29/2019  13:46   \n",
       "303-96-2227       97.38        10  48.6900  1022.4900   3/2/2019  17:16   \n",
       "727-02-1313       31.84         1   1.5920    33.4320   2/9/2019  13:22   \n",
       "347-56-2442       65.82         1   3.2910    69.1110  2/22/2019  15:33   \n",
       "849-09-3807       88.34         7  30.9190   649.2990  2/18/2019  13:28   \n",
       "\n",
       "                 Payment    cogs  gross margin percentage  gross income   \n",
       "Invoice ID                                                                \n",
       "750-67-8428      Ewallet  522.83                 4.761905       26.1415  \\\n",
       "226-31-3081         Cash   76.40                 4.761905        3.8200   \n",
       "631-41-3108  Credit card  324.31                 4.761905       16.2155   \n",
       "123-19-1176      Ewallet  465.76                 4.761905       23.2880   \n",
       "373-73-7910      Ewallet  604.17                 4.761905       30.2085   \n",
       "...                  ...     ...                      ...           ...   \n",
       "233-67-5758      Ewallet   40.35                 4.761905        2.0175   \n",
       "303-96-2227      Ewallet  973.80                 4.761905       48.6900   \n",
       "727-02-1313         Cash   31.84                 4.761905        1.5920   \n",
       "347-56-2442         Cash   65.82                 4.761905        3.2910   \n",
       "849-09-3807         Cash  618.38                 4.761905       30.9190   \n",
       "\n",
       "             Rating  \n",
       "Invoice ID           \n",
       "750-67-8428     9.1  \n",
       "226-31-3081     9.6  \n",
       "631-41-3108     7.4  \n",
       "123-19-1176     8.4  \n",
       "373-73-7910     5.3  \n",
       "...             ...  \n",
       "233-67-5758     6.2  \n",
       "303-96-2227     4.4  \n",
       "727-02-1313     7.7  \n",
       "347-56-2442     4.1  \n",
       "849-09-3807     6.6  \n",
       "\n",
       "[1000 rows x 16 columns]"
      ]
     },
     "execution_count": 121,
     "metadata": {},
     "output_type": "execute_result"
    }
   ],
   "source": [
    "pd.read_csv(\"supermarket_sales.csv\", sep=\",\", header =0 , index_col = 0 , decimal=\".\")#sep = \",\" veriler , ile ayrılıyor // header = 0 sütunların başlıkları başlangıç satırında. // index_col = indexin hangi collumnda olduğunu tanımlar. // skiprows = 5 ilk 5 satırdaki verileri alma demek // decimal = \".\" ondalık nokta ile ayrılıyor."
   ]
  },
  {
   "cell_type": "code",
   "execution_count": 122,
   "metadata": {},
   "outputs": [],
   "source": [
    "df = df = pd.read_csv(\"supermarket_sales.csv\", sep=\",\", header =0 , index_col = 0 , decimal=\".\")"
   ]
  },
  {
   "cell_type": "code",
   "execution_count": 123,
   "metadata": {},
   "outputs": [
    {
     "name": "stdout",
     "output_type": "stream",
     "text": [
      "        Unit price     Quantity       Tax 5%        Total        cogs   \n",
      "count  1000.000000  1000.000000  1000.000000  1000.000000  1000.00000  \\\n",
      "mean     55.672130     5.510000    15.379369   322.966749   307.58738   \n",
      "std      26.494628     2.923431    11.708825   245.885335   234.17651   \n",
      "min      10.080000     1.000000     0.508500    10.678500    10.17000   \n",
      "25%      32.875000     3.000000     5.924875   124.422375   118.49750   \n",
      "50%      55.230000     5.000000    12.088000   253.848000   241.76000   \n",
      "75%      77.935000     8.000000    22.445250   471.350250   448.90500   \n",
      "max      99.960000    10.000000    49.650000  1042.650000   993.00000   \n",
      "\n",
      "       gross margin percentage  gross income      Rating  \n",
      "count              1000.000000   1000.000000  1000.00000  \n",
      "mean                  4.761905     15.379369     6.97270  \n",
      "std                   0.000000     11.708825     1.71858  \n",
      "min                   4.761905      0.508500     4.00000  \n",
      "25%                   4.761905      5.924875     5.50000  \n",
      "50%                   4.761905     12.088000     7.00000  \n",
      "75%                   4.761905     22.445250     8.50000  \n",
      "max                   4.761905     49.650000    10.00000  \n"
     ]
    }
   ],
   "source": [
    "print(df.describe())"
   ]
  },
  {
   "cell_type": "code",
   "execution_count": 124,
   "metadata": {},
   "outputs": [],
   "source": [
    "df = df.drop(columns=['Date', 'Time','Branch' ])\n",
    "# Date,Time ve Branch columnlarını sildik, Date ve Time columnlarımız karışık yazılmıştı ve makine öğrenim aşamasında hatalarla karşı karşıya gelebilirdi.\n",
    "# Branch columnu ise City columnu ile %100 lük eşleşmeye sahip olduğu için 1.0 doğruluk oranına sahip olacaktık."
   ]
  },
  {
   "attachments": {},
   "cell_type": "markdown",
   "metadata": {},
   "source": [
    "Denetimli Öğrenme \"Random Forest\" sınıflandırma modeli kullanımı:"
   ]
  },
  {
   "cell_type": "code",
   "execution_count": 100,
   "metadata": {},
   "outputs": [
    {
     "name": "stdout",
     "output_type": "stream",
     "text": [
      "Model Customer type tahminlerinin  0.49 kadarını doğru tahmin etti\n"
     ]
    }
   ],
   "source": [
    "le = LabelEncoder()\n",
    "categorical_features = ['City', 'Customer type', 'Gender', 'Product line', 'Payment']\n",
    "for col in categorical_features:\n",
    "    df[col] = le.fit_transform(df[col])\n",
    "X = df.drop(columns=['Customer type'])\n",
    "y = df['Customer type']\n",
    "X_train, X_test, y_train, y_test = train_test_split(X, y, test_size=0.2, random_state=42)\n",
    "model = RandomForestClassifier(n_estimators=100)\n",
    "model.fit(X_train, y_train)\n",
    "y_pred = model.predict(X_test)\n",
    "print(\"Model Customer type tahminlerinin \", accuracy_score(y_test, y_pred),\"kadarını doğru tahmin etti\")"
   ]
  },
  {
   "cell_type": "code",
   "execution_count": 101,
   "metadata": {},
   "outputs": [
    {
     "name": "stdout",
     "output_type": "stream",
     "text": [
      "Model City tahminlerinin  0.275 kadarını doğru tahmin etti\n"
     ]
    }
   ],
   "source": [
    "le = LabelEncoder()\n",
    "categorical_features = ['City', 'Customer type', 'Gender', 'Product line', 'Payment']\n",
    "for col in categorical_features:\n",
    "    df[col] = le.fit_transform(df[col])\n",
    "X = df.drop(columns=['City'])\n",
    "y = df['City']\n",
    "X_train, X_test, y_train, y_test = train_test_split(X, y, test_size=0.2, random_state=42)\n",
    "model = RandomForestClassifier(n_estimators=100)\n",
    "model.fit(X_train, y_train)\n",
    "y_pred = model.predict(X_test)\n",
    "print(\"Model City tahminlerinin \", accuracy_score(y_test, y_pred),\"kadarını doğru tahmin etti\")"
   ]
  },
  {
   "cell_type": "code",
   "execution_count": 102,
   "metadata": {},
   "outputs": [
    {
     "name": "stdout",
     "output_type": "stream",
     "text": [
      "Model Gender tahminlerinin  0.495 kadarını doğru tahmin etti\n"
     ]
    }
   ],
   "source": [
    "le = LabelEncoder()\n",
    "categorical_features = [ 'City', 'Customer type', 'Gender', 'Product line', 'Payment']\n",
    "for col in categorical_features:\n",
    "    df[col] = le.fit_transform(df[col])\n",
    "X = df.drop(columns=['Gender'])\n",
    "y = df['Gender']\n",
    "X_train, X_test, y_train, y_test = train_test_split(X, y, test_size=0.2, random_state=42)\n",
    "model = RandomForestClassifier(n_estimators=100)\n",
    "model.fit(X_train, y_train)\n",
    "y_pred = model.predict(X_test)\n",
    "print(\"Model Gender tahminlerinin \", accuracy_score(y_test, y_pred),\"kadarını doğru tahmin etti\")"
   ]
  },
  {
   "cell_type": "code",
   "execution_count": 125,
   "metadata": {},
   "outputs": [
    {
     "name": "stdout",
     "output_type": "stream",
     "text": [
      "Model Product line tahminlerinin  0.185 kadarını doğru tahmin etti\n"
     ]
    }
   ],
   "source": [
    "le = LabelEncoder()\n",
    "categorical_features = [ 'City', 'Customer type', 'Gender', 'Product line', 'Payment']\n",
    "for col in categorical_features:\n",
    "    df[col] = le.fit_transform(df[col])\n",
    "X = df.drop(columns=['Product line'])\n",
    "y = df['Product line']\n",
    "X_train, X_test, y_train, y_test = train_test_split(X, y, test_size=0.2, random_state=42)\n",
    "model = RandomForestClassifier(n_estimators=100)\n",
    "model.fit(X_train, y_train)\n",
    "y_pred = model.predict(X_test)\n",
    "print(\"Model Product line tahminlerinin \", accuracy_score(y_test, y_pred),\"kadarını doğru tahmin etti\")"
   ]
  },
  {
   "cell_type": "code",
   "execution_count": 126,
   "metadata": {},
   "outputs": [
    {
     "name": "stdout",
     "output_type": "stream",
     "text": [
      "Model Payment tahminlerinin  0.31 kadarını doğru tahmin etti\n"
     ]
    }
   ],
   "source": [
    "le = LabelEncoder()\n",
    "categorical_features = [ 'City', 'Customer type', 'Gender', 'Product line', 'Payment']\n",
    "for col in categorical_features:\n",
    "    df[col] = le.fit_transform(df[col])\n",
    "X = df.drop(columns=['Payment'])\n",
    "y = df['Payment']\n",
    "X_train, X_test, y_train, y_test = train_test_split(X, y, test_size=0.2, random_state=42)\n",
    "model = RandomForestClassifier(n_estimators=100)\n",
    "model.fit(X_train, y_train)\n",
    "y_pred = model.predict(X_test)\n",
    "print(\"Model Payment tahminlerinin \", accuracy_score(y_test, y_pred),\"kadarını doğru tahmin etti\")"
   ]
  },
  {
   "attachments": {},
   "cell_type": "markdown",
   "metadata": {},
   "source": [
    "Çapraz Doğrulama modeli:"
   ]
  },
  {
   "cell_type": "code",
   "execution_count": 127,
   "metadata": {},
   "outputs": [
    {
     "name": "stdout",
     "output_type": "stream",
     "text": [
      "Çapraz Doğrulama Skoru:  [0.325 0.335 0.31  0.28  0.29 ]\n",
      "Ortalama Çapraz Doğrulama Skoru:  0.308\n"
     ]
    }
   ],
   "source": [
    "from sklearn.model_selection import cross_val_score\n",
    "\n",
    "scores = cross_val_score(model, X, y, cv=5, scoring='accuracy')\n",
    "print(\"Çapraz Doğrulama Skoru: \", scores)\n",
    "print(\"Ortalama Çapraz Doğrulama Skoru: \", scores.mean())\n"
   ]
  },
  {
   "attachments": {},
   "cell_type": "markdown",
   "metadata": {},
   "source": [
    "Hiperparametre Ayarlaması:"
   ]
  },
  {
   "cell_type": "code",
   "execution_count": 106,
   "metadata": {},
   "outputs": [
    {
     "name": "stdout",
     "output_type": "stream",
     "text": [
      "{'max_depth': 20, 'min_samples_split': 2, 'n_estimators': 150}\n",
      "Her bir karar ağacının maksimum derinliği 20'dir. Herhangi bir düğümün bölünebilmesi için en az 2 örneğe sahip olması gereklidir. Modelimiz toplamda 150 karar ağacı oluşturacaktır.\n"
     ]
    }
   ],
   "source": [
    "from sklearn.ensemble import RandomForestClassifier\n",
    "from sklearn.model_selection import GridSearchCV\n",
    "model = RandomForestClassifier(random_state=42)\n",
    "param_grid = {\n",
    "    'n_estimators': [50, 100, 150, 200],  \n",
    "    'max_depth': [None, 10, 20, 30], \n",
    "    'min_samples_split': [2, 5, 10] \n",
    "}\n",
    "grid_search = GridSearchCV(estimator=model, param_grid=param_grid, cv=3, scoring='accuracy')\n",
    "grid_search.fit(X_train, y_train)\n",
    "print(grid_search.best_params_)\n",
    "model = grid_search.best_estimator_\n",
    "print(\"Her bir karar ağacının maksimum derinliği 20'dir. Herhangi bir düğümün bölünebilmesi için en az 2 örneğe sahip olması gereklidir. Modelimiz toplamda 150 karar ağacı oluşturacaktır.\")"
   ]
  },
  {
   "cell_type": "code",
   "execution_count": 107,
   "metadata": {},
   "outputs": [
    {
     "name": "stdout",
     "output_type": "stream",
     "text": [
      "Test Doğruluğu:  0.295\n"
     ]
    }
   ],
   "source": [
    "y_pred = model.predict(X_test)\n",
    "accuracy = accuracy_score(y_test, y_pred)\n",
    "print(\"Test Doğruluğu: \", accuracy ,)"
   ]
  },
  {
   "attachments": {},
   "cell_type": "markdown",
   "metadata": {},
   "source": [
    "Destek Vektör Makineleri modeli denemesi:"
   ]
  },
  {
   "cell_type": "code",
   "execution_count": 128,
   "metadata": {},
   "outputs": [
    {
     "name": "stdout",
     "output_type": "stream",
     "text": [
      "Test Doğruluğu:  0.29\n",
      "Fitting 5 folds for each of 25 candidates, totalling 125 fits\n",
      "[CV 1/5] END ........C=0.1, gamma=1, kernel=rbf;, score=0.344 total time=   0.0s\n",
      "[CV 2/5] END ........C=0.1, gamma=1, kernel=rbf;, score=0.344 total time=   0.0s\n",
      "[CV 3/5] END ........C=0.1, gamma=1, kernel=rbf;, score=0.344 total time=   0.0s\n",
      "[CV 4/5] END ........C=0.1, gamma=1, kernel=rbf;, score=0.344 total time=   0.0s\n",
      "[CV 5/5] END ........C=0.1, gamma=1, kernel=rbf;, score=0.344 total time=   0.0s\n",
      "[CV 1/5] END ......C=0.1, gamma=0.1, kernel=rbf;, score=0.344 total time=   0.0s\n",
      "[CV 2/5] END ......C=0.1, gamma=0.1, kernel=rbf;, score=0.344 total time=   0.0s\n",
      "[CV 3/5] END ......C=0.1, gamma=0.1, kernel=rbf;, score=0.344 total time=   0.0s\n",
      "[CV 4/5] END ......C=0.1, gamma=0.1, kernel=rbf;, score=0.344 total time=   0.0s\n",
      "[CV 5/5] END ......C=0.1, gamma=0.1, kernel=rbf;, score=0.344 total time=   0.0s\n",
      "[CV 1/5] END .....C=0.1, gamma=0.01, kernel=rbf;, score=0.344 total time=   0.0s\n",
      "[CV 2/5] END .....C=0.1, gamma=0.01, kernel=rbf;, score=0.344 total time=   0.0s\n",
      "[CV 3/5] END .....C=0.1, gamma=0.01, kernel=rbf;, score=0.344 total time=   0.0s\n",
      "[CV 4/5] END .....C=0.1, gamma=0.01, kernel=rbf;, score=0.344 total time=   0.0s\n",
      "[CV 5/5] END .....C=0.1, gamma=0.01, kernel=rbf;, score=0.344 total time=   0.0s\n",
      "[CV 1/5] END ....C=0.1, gamma=0.001, kernel=rbf;, score=0.325 total time=   0.0s\n",
      "[CV 2/5] END ....C=0.1, gamma=0.001, kernel=rbf;, score=0.338 total time=   0.0s\n",
      "[CV 3/5] END ....C=0.1, gamma=0.001, kernel=rbf;, score=0.344 total time=   0.0s\n",
      "[CV 4/5] END ....C=0.1, gamma=0.001, kernel=rbf;, score=0.331 total time=   0.0s\n",
      "[CV 5/5] END ....C=0.1, gamma=0.001, kernel=rbf;, score=0.350 total time=   0.0s\n",
      "[CV 1/5] END ...C=0.1, gamma=0.0001, kernel=rbf;, score=0.312 total time=   0.0s\n",
      "[CV 2/5] END ...C=0.1, gamma=0.0001, kernel=rbf;, score=0.256 total time=   0.0s\n",
      "[CV 3/5] END ...C=0.1, gamma=0.0001, kernel=rbf;, score=0.306 total time=   0.0s\n",
      "[CV 4/5] END ...C=0.1, gamma=0.0001, kernel=rbf;, score=0.325 total time=   0.0s\n",
      "[CV 5/5] END ...C=0.1, gamma=0.0001, kernel=rbf;, score=0.344 total time=   0.0s\n",
      "[CV 1/5] END ..........C=1, gamma=1, kernel=rbf;, score=0.350 total time=   0.0s\n",
      "[CV 2/5] END ..........C=1, gamma=1, kernel=rbf;, score=0.362 total time=   0.0s\n",
      "[CV 3/5] END ..........C=1, gamma=1, kernel=rbf;, score=0.331 total time=   0.0s\n",
      "[CV 4/5] END ..........C=1, gamma=1, kernel=rbf;, score=0.344 total time=   0.0s\n",
      "[CV 5/5] END ..........C=1, gamma=1, kernel=rbf;, score=0.338 total time=   0.0s\n",
      "[CV 1/5] END ........C=1, gamma=0.1, kernel=rbf;, score=0.369 total time=   0.0s\n",
      "[CV 2/5] END ........C=1, gamma=0.1, kernel=rbf;, score=0.362 total time=   0.0s\n",
      "[CV 3/5] END ........C=1, gamma=0.1, kernel=rbf;, score=0.325 total time=   0.0s\n",
      "[CV 4/5] END ........C=1, gamma=0.1, kernel=rbf;, score=0.312 total time=   0.0s\n",
      "[CV 5/5] END ........C=1, gamma=0.1, kernel=rbf;, score=0.356 total time=   0.0s\n",
      "[CV 1/5] END .......C=1, gamma=0.01, kernel=rbf;, score=0.450 total time=   0.0s\n",
      "[CV 2/5] END .......C=1, gamma=0.01, kernel=rbf;, score=0.344 total time=   0.0s\n",
      "[CV 3/5] END .......C=1, gamma=0.01, kernel=rbf;, score=0.319 total time=   0.0s\n",
      "[CV 4/5] END .......C=1, gamma=0.01, kernel=rbf;, score=0.300 total time=   0.0s\n",
      "[CV 5/5] END .......C=1, gamma=0.01, kernel=rbf;, score=0.419 total time=   0.0s\n",
      "[CV 1/5] END ......C=1, gamma=0.001, kernel=rbf;, score=0.381 total time=   0.0s\n",
      "[CV 2/5] END ......C=1, gamma=0.001, kernel=rbf;, score=0.338 total time=   0.0s\n",
      "[CV 3/5] END ......C=1, gamma=0.001, kernel=rbf;, score=0.300 total time=   0.0s\n",
      "[CV 4/5] END ......C=1, gamma=0.001, kernel=rbf;, score=0.331 total time=   0.0s\n",
      "[CV 5/5] END ......C=1, gamma=0.001, kernel=rbf;, score=0.312 total time=   0.0s\n",
      "[CV 1/5] END .....C=1, gamma=0.0001, kernel=rbf;, score=0.300 total time=   0.0s\n",
      "[CV 2/5] END .....C=1, gamma=0.0001, kernel=rbf;, score=0.250 total time=   0.0s\n",
      "[CV 3/5] END .....C=1, gamma=0.0001, kernel=rbf;, score=0.256 total time=   0.0s\n",
      "[CV 4/5] END .....C=1, gamma=0.0001, kernel=rbf;, score=0.344 total time=   0.0s\n",
      "[CV 5/5] END .....C=1, gamma=0.0001, kernel=rbf;, score=0.287 total time=   0.0s\n",
      "[CV 1/5] END .........C=10, gamma=1, kernel=rbf;, score=0.338 total time=   0.1s\n",
      "[CV 2/5] END .........C=10, gamma=1, kernel=rbf;, score=0.362 total time=   0.0s\n",
      "[CV 3/5] END .........C=10, gamma=1, kernel=rbf;, score=0.325 total time=   0.0s\n",
      "[CV 4/5] END .........C=10, gamma=1, kernel=rbf;, score=0.338 total time=   0.0s\n",
      "[CV 5/5] END .........C=10, gamma=1, kernel=rbf;, score=0.338 total time=   0.1s\n",
      "[CV 1/5] END .......C=10, gamma=0.1, kernel=rbf;, score=0.375 total time=   0.1s\n",
      "[CV 2/5] END .......C=10, gamma=0.1, kernel=rbf;, score=0.369 total time=   0.1s\n",
      "[CV 3/5] END .......C=10, gamma=0.1, kernel=rbf;, score=0.300 total time=   0.1s\n",
      "[CV 4/5] END .......C=10, gamma=0.1, kernel=rbf;, score=0.306 total time=   0.0s\n",
      "[CV 5/5] END .......C=10, gamma=0.1, kernel=rbf;, score=0.369 total time=   0.0s\n",
      "[CV 1/5] END ......C=10, gamma=0.01, kernel=rbf;, score=0.369 total time=   0.0s\n",
      "[CV 2/5] END ......C=10, gamma=0.01, kernel=rbf;, score=0.356 total time=   0.1s\n",
      "[CV 3/5] END ......C=10, gamma=0.01, kernel=rbf;, score=0.344 total time=   0.0s\n",
      "[CV 4/5] END ......C=10, gamma=0.01, kernel=rbf;, score=0.281 total time=   0.0s\n",
      "[CV 5/5] END ......C=10, gamma=0.01, kernel=rbf;, score=0.431 total time=   0.0s\n",
      "[CV 1/5] END .....C=10, gamma=0.001, kernel=rbf;, score=0.394 total time=   0.0s\n",
      "[CV 2/5] END .....C=10, gamma=0.001, kernel=rbf;, score=0.350 total time=   0.0s\n",
      "[CV 3/5] END .....C=10, gamma=0.001, kernel=rbf;, score=0.350 total time=   0.0s\n",
      "[CV 4/5] END .....C=10, gamma=0.001, kernel=rbf;, score=0.325 total time=   0.0s\n",
      "[CV 5/5] END .....C=10, gamma=0.001, kernel=rbf;, score=0.356 total time=   0.0s\n",
      "[CV 1/5] END ....C=10, gamma=0.0001, kernel=rbf;, score=0.325 total time=   0.0s\n",
      "[CV 2/5] END ....C=10, gamma=0.0001, kernel=rbf;, score=0.269 total time=   0.0s\n",
      "[CV 3/5] END ....C=10, gamma=0.0001, kernel=rbf;, score=0.281 total time=   0.0s\n",
      "[CV 4/5] END ....C=10, gamma=0.0001, kernel=rbf;, score=0.319 total time=   0.0s\n",
      "[CV 5/5] END ....C=10, gamma=0.0001, kernel=rbf;, score=0.306 total time=   0.0s\n",
      "[CV 1/5] END ........C=100, gamma=1, kernel=rbf;, score=0.338 total time=   0.1s\n",
      "[CV 2/5] END ........C=100, gamma=1, kernel=rbf;, score=0.362 total time=   0.1s\n",
      "[CV 3/5] END ........C=100, gamma=1, kernel=rbf;, score=0.325 total time=   0.1s\n",
      "[CV 4/5] END ........C=100, gamma=1, kernel=rbf;, score=0.338 total time=   0.1s\n",
      "[CV 5/5] END ........C=100, gamma=1, kernel=rbf;, score=0.338 total time=   0.1s\n",
      "[CV 1/5] END ......C=100, gamma=0.1, kernel=rbf;, score=0.381 total time=   0.1s\n",
      "[CV 2/5] END ......C=100, gamma=0.1, kernel=rbf;, score=0.369 total time=   0.1s\n",
      "[CV 3/5] END ......C=100, gamma=0.1, kernel=rbf;, score=0.281 total time=   0.1s\n",
      "[CV 4/5] END ......C=100, gamma=0.1, kernel=rbf;, score=0.306 total time=   0.1s\n",
      "[CV 5/5] END ......C=100, gamma=0.1, kernel=rbf;, score=0.369 total time=   0.1s\n",
      "[CV 1/5] END .....C=100, gamma=0.01, kernel=rbf;, score=0.381 total time=   0.3s\n",
      "[CV 2/5] END .....C=100, gamma=0.01, kernel=rbf;, score=0.362 total time=   0.3s\n",
      "[CV 3/5] END .....C=100, gamma=0.01, kernel=rbf;, score=0.319 total time=   0.2s\n",
      "[CV 4/5] END .....C=100, gamma=0.01, kernel=rbf;, score=0.275 total time=   0.1s\n",
      "[CV 5/5] END .....C=100, gamma=0.01, kernel=rbf;, score=0.406 total time=   0.1s\n",
      "[CV 1/5] END ....C=100, gamma=0.001, kernel=rbf;, score=0.375 total time=   0.3s\n",
      "[CV 2/5] END ....C=100, gamma=0.001, kernel=rbf;, score=0.369 total time=   0.3s\n",
      "[CV 3/5] END ....C=100, gamma=0.001, kernel=rbf;, score=0.325 total time=   0.3s\n",
      "[CV 4/5] END ....C=100, gamma=0.001, kernel=rbf;, score=0.312 total time=   0.3s\n",
      "[CV 5/5] END ....C=100, gamma=0.001, kernel=rbf;, score=0.425 total time=   0.3s\n",
      "[CV 1/5] END ...C=100, gamma=0.0001, kernel=rbf;, score=0.325 total time=   0.1s\n",
      "[CV 2/5] END ...C=100, gamma=0.0001, kernel=rbf;, score=0.281 total time=   0.1s\n",
      "[CV 3/5] END ...C=100, gamma=0.0001, kernel=rbf;, score=0.338 total time=   0.1s\n",
      "[CV 4/5] END ...C=100, gamma=0.0001, kernel=rbf;, score=0.319 total time=   0.0s\n",
      "[CV 5/5] END ...C=100, gamma=0.0001, kernel=rbf;, score=0.312 total time=   0.0s\n",
      "[CV 1/5] END .......C=1000, gamma=1, kernel=rbf;, score=0.338 total time=   0.1s\n",
      "[CV 2/5] END .......C=1000, gamma=1, kernel=rbf;, score=0.362 total time=   0.1s\n",
      "[CV 3/5] END .......C=1000, gamma=1, kernel=rbf;, score=0.325 total time=   0.1s\n",
      "[CV 4/5] END .......C=1000, gamma=1, kernel=rbf;, score=0.338 total time=   0.1s\n",
      "[CV 5/5] END .......C=1000, gamma=1, kernel=rbf;, score=0.338 total time=   0.1s\n",
      "[CV 1/5] END .....C=1000, gamma=0.1, kernel=rbf;, score=0.381 total time=   0.1s\n",
      "[CV 2/5] END .....C=1000, gamma=0.1, kernel=rbf;, score=0.369 total time=   0.1s\n",
      "[CV 3/5] END .....C=1000, gamma=0.1, kernel=rbf;, score=0.281 total time=   0.1s\n",
      "[CV 4/5] END .....C=1000, gamma=0.1, kernel=rbf;, score=0.306 total time=   0.1s\n",
      "[CV 5/5] END .....C=1000, gamma=0.1, kernel=rbf;, score=0.369 total time=   0.0s\n",
      "[CV 1/5] END ....C=1000, gamma=0.01, kernel=rbf;, score=0.381 total time=   0.0s\n",
      "[CV 2/5] END ....C=1000, gamma=0.01, kernel=rbf;, score=0.362 total time=   0.0s\n",
      "[CV 3/5] END ....C=1000, gamma=0.01, kernel=rbf;, score=0.319 total time=   0.0s\n",
      "[CV 4/5] END ....C=1000, gamma=0.01, kernel=rbf;, score=0.269 total time=   0.0s\n",
      "[CV 5/5] END ....C=1000, gamma=0.01, kernel=rbf;, score=0.406 total time=   0.0s\n",
      "[CV 1/5] END ...C=1000, gamma=0.001, kernel=rbf;, score=0.356 total time=   0.3s\n",
      "[CV 2/5] END ...C=1000, gamma=0.001, kernel=rbf;, score=0.350 total time=   0.2s\n",
      "[CV 3/5] END ...C=1000, gamma=0.001, kernel=rbf;, score=0.338 total time=   0.1s\n",
      "[CV 4/5] END ...C=1000, gamma=0.001, kernel=rbf;, score=0.294 total time=   0.3s\n",
      "[CV 5/5] END ...C=1000, gamma=0.001, kernel=rbf;, score=0.394 total time=   0.2s\n",
      "[CV 1/5] END ..C=1000, gamma=0.0001, kernel=rbf;, score=0.281 total time=   0.2s\n",
      "[CV 2/5] END ..C=1000, gamma=0.0001, kernel=rbf;, score=0.325 total time=   0.2s\n",
      "[CV 3/5] END ..C=1000, gamma=0.0001, kernel=rbf;, score=0.306 total time=   0.2s\n",
      "[CV 4/5] END ..C=1000, gamma=0.0001, kernel=rbf;, score=0.344 total time=   0.2s\n",
      "[CV 5/5] END ..C=1000, gamma=0.0001, kernel=rbf;, score=0.344 total time=   0.3s\n",
      "{'C': 1, 'gamma': 0.01, 'kernel': 'rbf'}\n",
      "0.36624999999999996\n"
     ]
    }
   ],
   "source": [
    "from sklearn import svm\n",
    "svm_model = svm.SVC()\n",
    "svm_model.fit(X_train, y_train)\n",
    "y_pred = svm_model.predict(X_test)\n",
    "accuracy = accuracy_score(y_test, y_pred)\n",
    "print(\"Test Doğruluğu: \", accuracy)\n",
    "from sklearn.model_selection import GridSearchCV\n",
    "\n",
    "parameters = {'C': [0.1, 1, 10, 100, 1000],  \n",
    "              'gamma': [1, 0.1, 0.01, 0.001, 0.0001], \n",
    "              'kernel': ['rbf']}  \n",
    "\n",
    "grid = GridSearchCV(svm.SVC(), parameters, refit = True, verbose = 3)\n",
    "grid.fit(X_train, y_train)\n",
    "print(grid.best_params_)\n",
    "print(grid.best_score_)\n"
   ]
  },
  {
   "attachments": {},
   "cell_type": "markdown",
   "metadata": {},
   "source": [
    "Karar Ağacı denemesi:"
   ]
  },
  {
   "cell_type": "code",
   "execution_count": 113,
   "metadata": {},
   "outputs": [
    {
     "name": "stdout",
     "output_type": "stream",
     "text": [
      "Test Accuracy:  0.315\n"
     ]
    }
   ],
   "source": [
    "from sklearn.tree import DecisionTreeClassifier\n",
    "dt_model = DecisionTreeClassifier()\n",
    "dt_model.fit(X_train, y_train)\n",
    "y_pred = dt_model.predict(X_test)\n",
    "accuracy = accuracy_score(y_test, y_pred)\n",
    "print(\"Test Accuracy: \", accuracy)"
   ]
  },
  {
   "attachments": {},
   "cell_type": "markdown",
   "metadata": {},
   "source": [
    "Lojistik Regresyon Denemesi:"
   ]
  },
  {
   "cell_type": "code",
   "execution_count": 138,
   "metadata": {},
   "outputs": [
    {
     "name": "stdout",
     "output_type": "stream",
     "text": [
      "Test Accuracy:  0.3\n"
     ]
    }
   ],
   "source": [
    "from sklearn.linear_model import LogisticRegression\n",
    "lr_model = LogisticRegression(max_iter=1000)\n",
    "lr_model.fit(X_train, y_train)\n",
    "y_pred = lr_model.predict(X_test)\n",
    "accuracy = accuracy_score(y_test, y_pred)\n",
    "print(\"Test Accuracy: \", accuracy)"
   ]
  },
  {
   "attachments": {},
   "cell_type": "markdown",
   "metadata": {},
   "source": [
    "### Yapılan işlem : Gereksiz attributeların silinmesi"
   ]
  },
  {
   "cell_type": "code",
   "execution_count": 116,
   "metadata": {},
   "outputs": [
    {
     "name": "stdout",
     "output_type": "stream",
     "text": [
      "                  City Customer type  Gender            Product line   \n",
      "Invoice ID                                                             \n",
      "750-67-8428     Yangon        Member  Female       Health and beauty  \\\n",
      "226-31-3081  Naypyitaw        Normal  Female  Electronic accessories   \n",
      "631-41-3108     Yangon        Normal    Male      Home and lifestyle   \n",
      "123-19-1176     Yangon        Member    Male       Health and beauty   \n",
      "373-73-7910     Yangon        Normal    Male       Sports and travel   \n",
      "...                ...           ...     ...                     ...   \n",
      "233-67-5758  Naypyitaw        Normal    Male       Health and beauty   \n",
      "303-96-2227   Mandalay        Normal  Female      Home and lifestyle   \n",
      "727-02-1313     Yangon        Member    Male      Food and beverages   \n",
      "347-56-2442     Yangon        Normal    Male      Home and lifestyle   \n",
      "849-09-3807     Yangon        Member  Female     Fashion accessories   \n",
      "\n",
      "             Unit price  Quantity      Total      Payment  \n",
      "Invoice ID                                                 \n",
      "750-67-8428       74.69         7   548.9715      Ewallet  \n",
      "226-31-3081       15.28         5    80.2200         Cash  \n",
      "631-41-3108       46.33         7   340.5255  Credit card  \n",
      "123-19-1176       58.22         8   489.0480      Ewallet  \n",
      "373-73-7910       86.31         7   634.3785      Ewallet  \n",
      "...                 ...       ...        ...          ...  \n",
      "233-67-5758       40.35         1    42.3675      Ewallet  \n",
      "303-96-2227       97.38        10  1022.4900      Ewallet  \n",
      "727-02-1313       31.84         1    33.4320         Cash  \n",
      "347-56-2442       65.82         1    69.1110         Cash  \n",
      "849-09-3807       88.34         7   649.2990         Cash  \n",
      "\n",
      "[1000 rows x 8 columns]\n"
     ]
    }
   ],
   "source": [
    "df = pd.read_csv(\"supermarket_sales.csv\", sep=\",\", header =0 , index_col = 0 , decimal=\".\")\n",
    "df = df.drop('Branch', axis=1)\n",
    "df = df.drop(\"Tax 5%\", axis=1)\n",
    "df = df.drop(\"Date\", axis=1)\n",
    "df = df.drop(\"Time\", axis=1)\n",
    "df = df.drop(\"Rating\", axis=1)\n",
    "df = df.drop(\"cogs\", axis=1)\n",
    "df = df.drop(\"gross income\", axis=1)\n",
    "df = df.drop(\"gross margin percentage\", axis=1)\n",
    "print(df)"
   ]
  },
  {
   "cell_type": "code",
   "execution_count": 117,
   "metadata": {},
   "outputs": [],
   "source": [
    "df.to_csv('Düzenlenmis_supermarket_sales.csv', index=True)"
   ]
  },
  {
   "attachments": {},
   "cell_type": "markdown",
   "metadata": {},
   "source": [
    "### Yapılan İşlem : Eksik veri kontrolü\n"
   ]
  },
  {
   "cell_type": "code",
   "execution_count": 17,
   "metadata": {},
   "outputs": [
    {
     "name": "stdout",
     "output_type": "stream",
     "text": [
      "City             0\n",
      "Customer type    0\n",
      "Gender           0\n",
      "Product line     0\n",
      "Unit price       0\n",
      "Quantity         0\n",
      "Total            0\n",
      "Payment          0\n",
      "dtype: int64\n"
     ]
    }
   ],
   "source": [
    "missing_values = df.isnull().sum()\n",
    "print(missing_values)"
   ]
  },
  {
   "attachments": {},
   "cell_type": "markdown",
   "metadata": {},
   "source": [
    "### Yapılan işlem : Toplam şehir sayısı ve isimleri"
   ]
  },
  {
   "cell_type": "code",
   "execution_count": 18,
   "metadata": {},
   "outputs": [
    {
     "name": "stdout",
     "output_type": "stream",
     "text": [
      "['Yangon' 'Naypyitaw' 'Mandalay']\n",
      "3\n"
     ]
    }
   ],
   "source": [
    "unique_cities = df[\"City\"].unique()\n",
    "unique_cities_quantity = df[\"City\"].nunique()\n",
    "print(unique_cities)\n",
    "print(unique_cities_quantity)"
   ]
  },
  {
   "attachments": {},
   "cell_type": "markdown",
   "metadata": {},
   "source": [
    "### Yapılan işlem : Toplam \"Product Line\" sayısı ve İsimleri"
   ]
  },
  {
   "cell_type": "code",
   "execution_count": 19,
   "metadata": {},
   "outputs": [
    {
     "name": "stdout",
     "output_type": "stream",
     "text": [
      "['Health and beauty' 'Electronic accessories' 'Home and lifestyle'\n",
      " 'Sports and travel' 'Food and beverages' 'Fashion accessories']\n",
      "6\n"
     ]
    }
   ],
   "source": [
    "unique_product_line = df[\"Product line\"].unique()\n",
    "unique_product_line_quantity = df[\"Product line\"].nunique()\n",
    "print(unique_product_line)\n",
    "print(unique_product_line_quantity)"
   ]
  },
  {
   "cell_type": "code",
   "execution_count": 20,
   "metadata": {},
   "outputs": [
    {
     "name": "stdout",
     "output_type": "stream",
     "text": [
      "Ülke geneli product line satın alma eğilimi:\n",
      "Product line\n",
      "Fashion accessories       0.178\n",
      "Food and beverages        0.174\n",
      "Electronic accessories    0.170\n",
      "Sports and travel         0.166\n",
      "Home and lifestyle        0.160\n",
      "Health and beauty         0.152\n",
      "Name: proportion, dtype: float64\n"
     ]
    }
   ],
   "source": [
    "total_product_line_tendency = df['Product line'].value_counts(normalize=True)\n",
    "print(\"Ülke geneli product line satın alma eğilimi:\")\n",
    "print(total_product_line_tendency)"
   ]
  },
  {
   "cell_type": "code",
   "execution_count": 10,
   "metadata": {},
   "outputs": [
    {
     "name": "stdout",
     "output_type": "stream",
     "text": [
      "\n",
      "Health and beauty için şehirlerdeki para harcama eğilimi:\n",
      "City\n",
      "Mandalay     0.406163\n",
      "Naypyitaw    0.337753\n",
      "Yangon       0.256084\n",
      "Name: Total, dtype: float64\n",
      "\n",
      "Electronic accessories için şehirlerdeki para harcama eğilimi:\n",
      "City\n",
      "Naypyitaw    0.349095\n",
      "Yangon       0.337099\n",
      "Mandalay     0.313806\n",
      "Name: Total, dtype: float64\n",
      "\n",
      "Home and lifestyle için şehirlerdeki para harcama eğilimi:\n",
      "City\n",
      "Yangon       0.416198\n",
      "Mandalay     0.325818\n",
      "Naypyitaw    0.257985\n",
      "Name: Total, dtype: float64\n"
     ]
    }
   ],
   "source": [
    "product_lines1 = ['Health and beauty', 'Electronic accessories', 'Home and lifestyle']\n",
    "for product in product_lines1:\n",
    "    print(f\"\\n{product} için şehirlerdeki para harcama eğilimi:\")\n",
    "    spending_by_city = df[df['Product line'] == product].groupby('City')['Total'].sum()\n",
    "    spending_by_city /= spending_by_city.sum()\n",
    "    print(spending_by_city.sort_values(ascending=False))"
   ]
  },
  {
   "cell_type": "code",
   "execution_count": 11,
   "metadata": {},
   "outputs": [
    {
     "name": "stdout",
     "output_type": "stream",
     "text": [
      "\n",
      "Sports and travel için şehirlerdeki para harcama eğilimi:\n",
      "City\n",
      "Mandalay     0.362612\n",
      "Yangon       0.351446\n",
      "Naypyitaw    0.285942\n",
      "Name: Total, dtype: float64\n",
      "\n",
      "Food and beverages için şehirlerdeki para harcama eğilimi:\n",
      "City\n",
      "Naypyitaw    0.423313\n",
      "Yangon       0.305693\n",
      "Mandalay     0.270994\n",
      "Name: Total, dtype: float64\n",
      "\n",
      "Fashion accessories için şehirlerdeki para harcama eğilimi:\n",
      "City\n",
      "Naypyitaw    0.397012\n",
      "Mandalay     0.302238\n",
      "Yangon       0.300750\n",
      "Name: Total, dtype: float64\n"
     ]
    }
   ],
   "source": [
    "product_lines2 = ['Sports and travel', 'Food and beverages', 'Fashion accessories']\n",
    "for product in product_lines2:\n",
    "    print(f\"\\n{product} için şehirlerdeki para harcama eğilimi:\")\n",
    "    spending_by_city = df[df['Product line'] == product].groupby('City')['Total'].sum()\n",
    "    spending_by_city /= spending_by_city.sum()\n",
    "    print(spending_by_city.sort_values(ascending=False))"
   ]
  },
  {
   "attachments": {},
   "cell_type": "markdown",
   "metadata": {},
   "source": [
    "### Yapılan İşlem : Bir kadın müşterinin mağazaya girdiğinde hangi kategöriden alışveriş yapma eğilimi olduğunun bulunması."
   ]
  },
  {
   "cell_type": "code",
   "execution_count": 12,
   "metadata": {},
   "outputs": [
    {
     "name": "stdout",
     "output_type": "stream",
     "text": [
      "Kadınların Health and beauty kategorisinde alışveriş yapma eğilimi :  % 12.77445109780439\n",
      "Kadınların Electronic accessories kategorisinde alışveriş yapma eğilimi :  % 16.766467065868262\n",
      "Kadınların Home and lifestyle kategorisinde alışveriş yapma eğilimi :  % 15.768463073852296\n",
      "Kadınların Sports and Travel kategorisinde alışveriş yapma eğilimi :  % 17.56487025948104\n",
      "Kadınların Health and beauty kategorisinde alışveriş yapma eğilimi :  % 17.964071856287426\n",
      "Kadınların Health and beauty kategorisinde alışveriş yapma eğilimi :  % 19.16167664670659\n",
      "                          Eğilim\n",
      "Product line                    \n",
      "Fashion accessories     0.191617\n",
      "Food and beverages      0.179641\n",
      "Sports and travel       0.175649\n",
      "Electronic accessories  0.167665\n",
      "Home and lifestyle      0.157685\n",
      "Health and beauty       0.127745\n"
     ]
    }
   ],
   "source": [
    "female_health_and_beauty = df[(df['Gender'] == 'Female') & (df['Product line'] == 'Health and beauty')]\n",
    "female_other_product_lines = df[(df['Gender'] == 'Female') & (df['Product line'] != 'Health and beauty')]\n",
    "intersection = len(female_health_and_beauty)\n",
    "union = len(female_health_and_beauty) + len(female_other_product_lines)\n",
    "female_health_and_beauty_egilim = intersection / union\n",
    "print(\"Kadınların Health and beauty kategorisinde alışveriş yapma eğilimi : \" , \"%\" ,(100 * female_health_and_beauty_egilim))\n",
    "female_Electronic_accessories = df[(df['Gender'] == 'Female') & (df['Product line'] == 'Electronic accessories')]\n",
    "female_other_product_lines = df[(df['Gender'] == 'Female') & (df['Product line'] != 'Electronic accessories')]\n",
    "intersection = len(female_Electronic_accessories)\n",
    "union = len(female_Electronic_accessories) + len(female_other_product_lines)\n",
    "female_Electronic_accessories_egilim = intersection / union\n",
    "print(\"Kadınların Electronic accessories kategorisinde alışveriş yapma eğilimi : \" , \"%\" ,(100 * female_Electronic_accessories_egilim))\n",
    "female_Home_lifestyle = df[(df['Gender'] == 'Female') & (df['Product line'] == 'Home and lifestyle')]\n",
    "female_other_product_lines = df[(df['Gender'] == 'Female') & (df['Product line'] != 'Home and lifestyle')]\n",
    "intersection = len(female_Home_lifestyle)\n",
    "union = len(female_Home_lifestyle) + len(female_other_product_lines)\n",
    "female_Home_lifestyle_egilim = intersection / union\n",
    "print(\"Kadınların Home and lifestyle kategorisinde alışveriş yapma eğilimi : \" , \"%\" ,(100 * female_Home_lifestyle_egilim))\n",
    "female_Sports_travel = df[(df['Gender'] == 'Female') & (df['Product line'] == 'Sports and travel')]\n",
    "female_other_product_lines = df[(df['Gender'] == 'Female') & (df['Product line'] != 'Sports and travel')]\n",
    "intersection = len(female_Sports_travel)\n",
    "union = len(female_Sports_travel) + len(female_other_product_lines)\n",
    "female_Sports_travel_egilim = intersection / union\n",
    "print(\"Kadınların Sports and Travel kategorisinde alışveriş yapma eğilimi : \" , \"%\" ,(100 * female_Sports_travel_egilim))\n",
    "female_Food_beverages = df[(df['Gender'] == 'Female') & (df['Product line'] == 'Food and beverages')]\n",
    "female_other_product_lines = df[(df['Gender'] == 'Female') & (df['Product line'] != 'Food and beverages')]\n",
    "intersection = len(female_Food_beverages)\n",
    "union = len(female_Food_beverages) + len(female_other_product_lines)\n",
    "female_Food_beverages_egilim = intersection / union\n",
    "print(\"Kadınların Health and beauty kategorisinde alışveriş yapma eğilimi : \" , \"%\" ,(100 * female_Food_beverages_egilim))\n",
    "female_Fashion_accessories = df[(df['Gender'] == 'Female') & (df['Product line'] == 'Fashion accessories')]\n",
    "female_other_product_lines = df[(df['Gender'] == 'Female') & (df['Product line'] != 'Fashion accessories')]\n",
    "intersection = len(female_Fashion_accessories)\n",
    "union = len(female_Fashion_accessories) + len(female_other_product_lines)\n",
    "female_Fashion_accessories_egilim = intersection / union\n",
    "print(\"Kadınların Health and beauty kategorisinde alışveriş yapma eğilimi : \" , \"%\" ,(100 * female_Fashion_accessories_egilim))\n",
    "female_egilimler = {\n",
    "    'Electronic accessories': female_Electronic_accessories_egilim,\n",
    "    'Health and beauty': female_health_and_beauty_egilim,\n",
    "    'Home and lifestyle': female_Home_lifestyle_egilim,\n",
    "    'Sports and travel': female_Sports_travel_egilim,\n",
    "    'Food and beverages': female_Food_beverages_egilim,\n",
    "    'Fashion accessories': female_Fashion_accessories_egilim\n",
    "}\n",
    "df_female_egilimler = pd.DataFrame(list(female_egilimler.items()), columns=['Product line', 'Eğilim'])\n",
    "df_female_egilimler = df_female_egilimler.sort_values('Eğilim', ascending=False)\n",
    "df_female_egilimler = df_female_egilimler.set_index('Product line')\n",
    "print(df_female_egilimler)\n",
    "\n"
   ]
  },
  {
   "attachments": {},
   "cell_type": "markdown",
   "metadata": {},
   "source": [
    "### Yapılan İşlem : Bir erkek müşterinin mağazaya girdiğinde hangi kategöriden alışveriş yapma eğilimi olduğunun bulunması."
   ]
  },
  {
   "cell_type": "code",
   "execution_count": 13,
   "metadata": {},
   "outputs": [
    {
     "name": "stdout",
     "output_type": "stream",
     "text": [
      "Erkeklerin Health and beauty kategorisinde alışveriş yapma eğilimi :  % 17.635270541082164\n",
      "Erkeklerin Electronic accessories kategorisinde alışveriş yapma eğilimi :  % 17.234468937875754\n",
      "Erkeklerin Home and lifestyle kategorisinde alışveriş yapma eğilimi :  % 16.23246492985972\n",
      "Erkeklerin Sports and Travel kategorisinde alışveriş yapma eğilimi :  % 15.631262525050099\n",
      "Erkeklerin Food and beverages kategorisinde alışveriş yapma eğilimi :  % 16.83366733466934\n",
      "Erkeklerin Fashion and accessories kategorisinde alışveriş yapma eğilimi :  % 16.432865731462925\n",
      "                          Eğilim\n",
      "Product line                    \n",
      "Health and beauty       0.176353\n",
      "Electronic accessories  0.172345\n",
      "Food and beverages      0.168337\n",
      "Fashion accessories     0.164329\n",
      "Home and lifestyle      0.162325\n",
      "Sports and travel       0.156313\n"
     ]
    }
   ],
   "source": [
    "Male_health_and_beauty = df[(df['Gender'] == 'Male') & (df['Product line'] == 'Health and beauty')]\n",
    "Male_other_product_lines = df[(df['Gender'] == 'Male') & (df['Product line'] != 'Health and beauty')]\n",
    "intersection = len(Male_health_and_beauty)\n",
    "union = len(Male_health_and_beauty) + len(Male_other_product_lines)\n",
    "Male_health_and_beauty_egilim = intersection / union\n",
    "print(\"Erkeklerin Health and beauty kategorisinde alışveriş yapma eğilimi : \" , \"%\" ,(100 * Male_health_and_beauty_egilim))\n",
    "Male_Electronic_accessories = df[(df['Gender'] == 'Male') & (df['Product line'] == 'Electronic accessories')]\n",
    "Male_other_product_lines = df[(df['Gender'] == 'Male') & (df['Product line'] != 'Electronic accessories')]\n",
    "intersection = len(Male_Electronic_accessories)\n",
    "union = len(Male_Electronic_accessories) + len(Male_other_product_lines)\n",
    "Male_Electronic_accessories_egilim = intersection / union\n",
    "print(\"Erkeklerin Electronic accessories kategorisinde alışveriş yapma eğilimi : \" , \"%\" ,(100 * Male_Electronic_accessories_egilim))\n",
    "Male_Home_lifestyle = df[(df['Gender'] == 'Male') & (df['Product line'] == 'Home and lifestyle')]\n",
    "Male_other_product_lines = df[(df['Gender'] == 'Male') & (df['Product line'] != 'Home and lifestyle')]\n",
    "intersection = len(Male_Home_lifestyle)\n",
    "union = len(Male_Home_lifestyle) + len(Male_other_product_lines)\n",
    "Male_Home_lifestyle_egilim = intersection / union\n",
    "print(\"Erkeklerin Home and lifestyle kategorisinde alışveriş yapma eğilimi : \" , \"%\" ,(100 * Male_Home_lifestyle_egilim))\n",
    "Male_Sports_travel = df[(df['Gender'] == 'Male') & (df['Product line'] == 'Sports and travel')]\n",
    "Male_other_product_lines = df[(df['Gender'] == 'Male') & (df['Product line'] != 'Sports and travel')]\n",
    "intersection = len(Male_Sports_travel)\n",
    "union = len(Male_Sports_travel) + len(Male_other_product_lines)\n",
    "Male_Sports_travel_egilim = intersection / union\n",
    "print(\"Erkeklerin Sports and Travel kategorisinde alışveriş yapma eğilimi : \" , \"%\" ,(100 * Male_Sports_travel_egilim))\n",
    "Male_Food_beverages = df[(df['Gender'] == 'Male') & (df['Product line'] == 'Food and beverages')]\n",
    "Male_other_product_lines = df[(df['Gender'] == 'Male') & (df['Product line'] != 'Food and beverages')]\n",
    "intersection = len(Male_Food_beverages)\n",
    "union = len(Male_Food_beverages) + len(Male_other_product_lines)\n",
    "Male_Food_beverages_egilim = intersection / union\n",
    "print(\"Erkeklerin Food and beverages kategorisinde alışveriş yapma eğilimi : \" , \"%\" ,(100 * Male_Food_beverages_egilim))\n",
    "Male_Fashion_accessories = df[(df['Gender'] == 'Male') & (df['Product line'] == 'Fashion accessories')]\n",
    "Male_other_product_lines = df[(df['Gender'] == 'Male') & (df['Product line'] != 'Fashion accessories')]\n",
    "intersection = len(Male_Fashion_accessories)\n",
    "union = len(Male_Fashion_accessories) + len(Male_other_product_lines)\n",
    "Male_Fashion_accessories_egilim = intersection / union\n",
    "print(\"Erkeklerin Fashion and accessories kategorisinde alışveriş yapma eğilimi : \" , \"%\" ,(100 * Male_Fashion_accessories_egilim))\n",
    "Male_egilimler = {\n",
    "    'Electronic accessories': Male_Electronic_accessories_egilim,\n",
    "    'Health and beauty': Male_health_and_beauty_egilim,\n",
    "    'Home and lifestyle': Male_Home_lifestyle_egilim,\n",
    "    'Sports and travel': Male_Sports_travel_egilim,\n",
    "    'Food and beverages': Male_Food_beverages_egilim,\n",
    "    'Fashion accessories': Male_Fashion_accessories_egilim\n",
    "}\n",
    "df_Male_egilimler = pd.DataFrame(list(Male_egilimler.items()), columns=['Product line', 'Eğilim'])\n",
    "df_Male_egilimler = df_Male_egilimler.sort_values('Eğilim', ascending=False)\n",
    "df_Male_egilimler = df_Male_egilimler.set_index('Product line')\n",
    "print(df_Male_egilimler)"
   ]
  },
  {
   "attachments": {},
   "cell_type": "markdown",
   "metadata": {},
   "source": [
    " * ### Yukarıda yapılan kategoriye göre eğilim hesaplamalarında, bir cinsiyete bağlı olarak müşterinin hangi kategöride alışveriş yapma eğilimi olduğunu ortaya çıkartmıştır. \n",
    " * ### Hesaplamaya harcanan para girmemiştir."
   ]
  },
  {
   "cell_type": "code",
   "execution_count": 14,
   "metadata": {},
   "outputs": [
    {
     "name": "stdout",
     "output_type": "stream",
     "text": [
      "Ülke genelindeki product line para harcama eğilimi:\n",
      "Product line\n",
      "Food and beverages        0.173841\n",
      "Sports and travel         0.170676\n",
      "Electronic accessories    0.168245\n",
      "Fashion accessories       0.168147\n",
      "Home and lifestyle        0.166772\n",
      "Health and beauty         0.152318\n",
      "Name: Total, dtype: float64\n",
      "\n",
      "\n"
     ]
    }
   ],
   "source": [
    "total_spending_per_product_line = df.groupby('Product line')['Total'].sum()\n",
    "total_spending_per_product_line /= total_spending_per_product_line.sum()\n",
    "print(\"Ülke genelindeki product line para harcama eğilimi:\")\n",
    "print(total_spending_per_product_line.sort_values(ascending=False))\n",
    "print(\"\\n\")"
   ]
  },
  {
   "cell_type": "code",
   "execution_count": 15,
   "metadata": {},
   "outputs": [
    {
     "name": "stdout",
     "output_type": "stream",
     "text": [
      "Ülke genelindeki cinsiyetlere göre product line para harcama eğilimi:\n",
      "Erkekler\n",
      "   Gender            Product line     Total_x     Total_y  Spending tendency\n",
      "9    Male       Health and beauty  30632.7525  155083.824           0.197524\n",
      "6    Male  Electronic accessories  27235.5090  155083.824           0.175618\n",
      "11   Male       Sports and travel  26548.1055  155083.824           0.171186\n",
      "7    Male     Fashion accessories  23868.4950  155083.824           0.153907\n",
      "10   Male      Home and lifestyle  23825.0355  155083.824           0.153627\n",
      "8    Male      Food and beverages  22973.9265  155083.824           0.148139\n",
      "---------------------\n",
      "Kadınlar\n",
      "   Gender            Product line     Total_x     Total_y  Spending tendency\n",
      "2  Female      Food and beverages  33170.9175  167882.925           0.197584\n",
      "1  Female     Fashion accessories  30437.4000  167882.925           0.181301\n",
      "4  Female      Home and lifestyle  30036.8775  167882.925           0.178916\n",
      "5  Female       Sports and travel  28574.7210  167882.925           0.170206\n",
      "0  Female  Electronic accessories  27102.0225  167882.925           0.161434\n",
      "3  Female       Health and beauty  18560.9865  167882.925           0.110559\n"
     ]
    }
   ],
   "source": [
    "print(\"Ülke genelindeki cinsiyetlere göre product line para harcama eğilimi:\")\n",
    "total_spend = df.groupby(['Gender', 'Product line'])['Total'].sum().reset_index()\n",
    "gender_total_spend = df.groupby('Gender')['Total'].sum().reset_index()\n",
    "spending_tendency = total_spend.merge(gender_total_spend, on='Gender')\n",
    "spending_tendency['Spending tendency'] = spending_tendency['Total_x'] / spending_tendency['Total_y']\n",
    "female_spending_tendency = spending_tendency[spending_tendency['Gender'] == 'Female']\n",
    "female_spending_tendency = female_spending_tendency.sort_values(by='Spending tendency', ascending=False)\n",
    "male_spending_tendency = spending_tendency[spending_tendency['Gender'] == 'Male']\n",
    "male_spending_tendency = male_spending_tendency.sort_values(by='Spending tendency', ascending=False)\n",
    "print(\"Erkekler\")\n",
    "print(male_spending_tendency)\n",
    "print(\"---------------------\")\n",
    "print(\"Kadınlar\")\n",
    "print(female_spending_tendency)\n"
   ]
  },
  {
   "attachments": {},
   "cell_type": "markdown",
   "metadata": {},
   "source": [
    "* ### Ülke genelinde kadın ve erkeklerin para harcama eğilimleri kategorilere göre yukarda sıralanmıştır."
   ]
  },
  {
   "attachments": {},
   "cell_type": "markdown",
   "metadata": {},
   "source": [
    "### Yangan Şehri"
   ]
  },
  {
   "cell_type": "code",
   "execution_count": 83,
   "metadata": {},
   "outputs": [
    {
     "name": "stdout",
     "output_type": "stream",
     "text": [
      "Yangan şehrinde product line satın alma eğilimi:\n",
      "Product line\n",
      "Home and lifestyle        0.191176\n",
      "Electronic accessories    0.176471\n",
      "Sports and travel         0.173529\n",
      "Food and beverages        0.170588\n",
      "Fashion accessories       0.150000\n",
      "Health and beauty         0.138235\n",
      "Name: proportion, dtype: float64\n",
      "\n",
      "\n"
     ]
    }
   ],
   "source": [
    "yangon_df = df[df['City'] == 'Yangon']\n",
    "yangon_product_line_counts = yangon_df['Product line'].value_counts(normalize=True).sort_values(ascending=False)\n",
    "print(\"Yangan şehrinde product line satın alma eğilimi:\")\n",
    "print(yangon_product_line_counts)\n",
    "print(\"\\n\")"
   ]
  },
  {
   "cell_type": "code",
   "execution_count": 86,
   "metadata": {},
   "outputs": [
    {
     "name": "stdout",
     "output_type": "stream",
     "text": [
      "Yangan şehrinde Cinsiyete göre product line satın alma eğilimi:\n",
      "\n",
      "Female:\n",
      "Product line\n",
      "Home and lifestyle        0.198758\n",
      "Sports and travel         0.180124\n",
      "Electronic accessories    0.173913\n",
      "Fashion accessories       0.173913\n",
      "Food and beverages        0.142857\n",
      "Health and beauty         0.130435\n",
      "Name: proportion, dtype: float64\n",
      "\n",
      "Male:\n",
      "Product line\n",
      "Food and beverages        0.195531\n",
      "Home and lifestyle        0.184358\n",
      "Electronic accessories    0.178771\n",
      "Sports and travel         0.167598\n",
      "Health and beauty         0.145251\n",
      "Fashion accessories       0.128492\n",
      "Name: proportion, dtype: float64\n",
      "\n",
      "\n"
     ]
    }
   ],
   "source": [
    "yangon_product_line_by_gender = yangon_df.groupby('Gender')['Product line'].value_counts(normalize=True)\n",
    "print(\"Yangan şehrinde Cinsiyete göre product line satın alma eğilimi:\")\n",
    "for gender in ['Female', 'Male']:\n",
    "    print(f\"\\n{gender}:\")\n",
    "    print(yangon_product_line_by_gender[gender].sort_values(ascending=False))\n",
    "print(\"\\n\")\n"
   ]
  },
  {
   "cell_type": "code",
   "execution_count": 82,
   "metadata": {},
   "outputs": [
    {
     "name": "stdout",
     "output_type": "stream",
     "text": [
      "Yangan şehrinde product line para harcama eğilimi:\n",
      "Product line\n",
      "Home and lifestyle        0.211084\n",
      "Sports and travel         0.182416\n",
      "Electronic accessories    0.172477\n",
      "Food and beverages        0.161611\n",
      "Fashion accessories       0.153790\n",
      "Health and beauty         0.118622\n",
      "Name: Total, dtype: float64\n",
      "\n",
      "\n"
     ]
    }
   ],
   "source": [
    "yangon_spending_per_product_line = yangon_df.groupby('Product line')['Total'].sum().sort_values(ascending=False)\n",
    "yangon_spending_per_product_line /= yangon_spending_per_product_line.sum()\n",
    "print(\"Yangan şehrinde product line para harcama eğilimi:\")\n",
    "print(yangon_spending_per_product_line)\n",
    "print(\"\\n\")"
   ]
  },
  {
   "cell_type": "code",
   "execution_count": 87,
   "metadata": {},
   "outputs": [
    {
     "name": "stdout",
     "output_type": "stream",
     "text": [
      "Yangan şehrinde cinsiyete göre product line para harcama eğilimi:\n",
      "\n",
      "Female:\n",
      "Gender  Product line          \n",
      "Female  Home and lifestyle        0.237226\n",
      "        Electronic accessories    0.187093\n",
      "        Fashion accessories       0.184651\n",
      "        Sports and travel         0.152343\n",
      "        Food and beverages        0.131404\n",
      "        Health and beauty         0.107283\n",
      "Name: Total, dtype: float64\n",
      "\n",
      "Male:\n",
      "Gender  Product line          \n",
      "Male    Sports and travel         0.212682\n",
      "        Food and beverages        0.192010\n",
      "        Home and lifestyle        0.184775\n",
      "        Electronic accessories    0.157767\n",
      "        Health and beauty         0.130034\n",
      "        Fashion accessories       0.122731\n",
      "Name: Total, dtype: float64\n"
     ]
    }
   ],
   "source": [
    "yangon_spending_by_gender = yangon_df.groupby(['Gender', 'Product line'])['Total'].sum()\n",
    "yangon_spending_by_gender = yangon_spending_by_gender.groupby(level=0).apply(lambda x: x / x.sum())\n",
    "print(\"Yangan şehrinde cinsiyete göre product line para harcama eğilimi:\")\n",
    "for gender in ['Female', 'Male']:\n",
    "    print(f\"\\n{gender}:\")\n",
    "    print(yangon_spending_by_gender[gender].sort_values(ascending=False))"
   ]
  },
  {
   "attachments": {},
   "cell_type": "markdown",
   "metadata": {},
   "source": [
    "### Naypyitaw Şehri"
   ]
  },
  {
   "cell_type": "code",
   "execution_count": 88,
   "metadata": {},
   "outputs": [],
   "source": [
    "naypyitaw_df = df[df['City'] == 'Naypyitaw']"
   ]
  },
  {
   "cell_type": "code",
   "execution_count": 89,
   "metadata": {},
   "outputs": [
    {
     "name": "stdout",
     "output_type": "stream",
     "text": [
      "Naypyitaw şehrinde product line satın alma eğilimi:\n",
      "Product line\n",
      "Food and beverages        0.201220\n",
      "Fashion accessories       0.198171\n",
      "Electronic accessories    0.167683\n",
      "Health and beauty         0.158537\n",
      "Home and lifestyle        0.137195\n",
      "Sports and travel         0.137195\n",
      "Name: proportion, dtype: float64\n",
      "\n",
      "\n"
     ]
    }
   ],
   "source": [
    "naypyitaw_product_line = naypyitaw_df['Product line'].value_counts(normalize=True).sort_values(ascending=False)\n",
    "print(\"Naypyitaw şehrinde product line satın alma eğilimi:\")\n",
    "print(naypyitaw_product_line)\n",
    "print(\"\\n\")"
   ]
  },
  {
   "cell_type": "code",
   "execution_count": 90,
   "metadata": {},
   "outputs": [
    {
     "name": "stdout",
     "output_type": "stream",
     "text": [
      "Naypyitaw şehrinde Cinsiyete göre product line satın alma eğilimi:\n",
      "\n",
      "Female:\n",
      "Product line\n",
      "Food and beverages        0.213483\n",
      "Fashion accessories       0.196629\n",
      "Sports and travel         0.162921\n",
      "Electronic accessories    0.157303\n",
      "Home and lifestyle        0.140449\n",
      "Health and beauty         0.129213\n",
      "Name: proportion, dtype: float64\n",
      "\n",
      "Male:\n",
      "Product line\n",
      "Fashion accessories       0.200000\n",
      "Health and beauty         0.193333\n",
      "Food and beverages        0.186667\n",
      "Electronic accessories    0.180000\n",
      "Home and lifestyle        0.133333\n",
      "Sports and travel         0.106667\n",
      "Name: proportion, dtype: float64\n",
      "\n",
      "\n"
     ]
    }
   ],
   "source": [
    "naypyitaw_product_line_by_gender = naypyitaw_df.groupby('Gender')['Product line'].value_counts(normalize=True)\n",
    "print(\"Naypyitaw şehrinde Cinsiyete göre product line satın alma eğilimi:\")\n",
    "for gender in ['Female', 'Male']:\n",
    "    print(f\"\\n{gender}:\")\n",
    "    print(naypyitaw_product_line_by_gender[gender].sort_values(ascending=False))\n",
    "print(\"\\n\")"
   ]
  },
  {
   "cell_type": "code",
   "execution_count": 91,
   "metadata": {},
   "outputs": [
    {
     "name": "stdout",
     "output_type": "stream",
     "text": [
      "Naypyitaw şehrinde prodcut line para harcama eğilimi:\n",
      "Product line\n",
      "Food and beverages        0.214951\n",
      "Fashion accessories       0.194993\n",
      "Electronic accessories    0.171558\n",
      "Health and beauty         0.150272\n",
      "Sports and travel         0.142553\n",
      "Home and lifestyle        0.125673\n",
      "Name: Total, dtype: float64\n",
      "\n",
      "\n"
     ]
    }
   ],
   "source": [
    "naypyitaw_spending = naypyitaw_df.groupby('Product line')['Total'].sum().sort_values(ascending=False)\n",
    "naypyitaw_spending /= naypyitaw_spending.sum()\n",
    "print(\"Naypyitaw şehrinde prodcut line para harcama eğilimi:\")\n",
    "print(naypyitaw_spending)\n",
    "print(\"\\n\")"
   ]
  },
  {
   "cell_type": "code",
   "execution_count": 92,
   "metadata": {},
   "outputs": [
    {
     "name": "stdout",
     "output_type": "stream",
     "text": [
      "Naypyitaw şehrinde cinsiyete göre product line para harcama eğilimi:\n",
      "\n",
      "Female:\n",
      "Gender  Product line          \n",
      "Female  Food and beverages        0.253887\n",
      "        Fashion accessories       0.186749\n",
      "        Sports and travel         0.182324\n",
      "        Electronic accessories    0.145402\n",
      "        Home and lifestyle        0.127144\n",
      "        Health and beauty         0.104494\n",
      "Name: Total, dtype: float64\n",
      "\n",
      "Male:\n",
      "Gender  Product line          \n",
      "Male    Health and beauty         0.208038\n",
      "        Fashion accessories       0.205395\n",
      "        Electronic accessories    0.204564\n",
      "        Food and beverages        0.165817\n",
      "        Home and lifestyle        0.123818\n",
      "        Sports and travel         0.092367\n",
      "Name: Total, dtype: float64\n"
     ]
    }
   ],
   "source": [
    "naypyitaw_spending_by_gender = naypyitaw_df.groupby(['Gender', 'Product line'])['Total'].sum()\n",
    "naypyitaw_spending_by_gender = naypyitaw_spending_by_gender.groupby(level=0).apply(lambda x: x / x.sum())\n",
    "print(\"Naypyitaw şehrinde cinsiyete göre product line para harcama eğilimi:\")\n",
    "for gender in ['Female', 'Male']:\n",
    "    print(f\"\\n{gender}:\")\n",
    "    print(naypyitaw_spending_by_gender[gender].sort_values(ascending=False))"
   ]
  },
  {
   "attachments": {},
   "cell_type": "markdown",
   "metadata": {},
   "source": [
    "### Mandalay Şehri"
   ]
  },
  {
   "cell_type": "code",
   "execution_count": 93,
   "metadata": {},
   "outputs": [],
   "source": [
    "mandalay_df = df[df['City'] == 'Mandalay']"
   ]
  },
  {
   "cell_type": "code",
   "execution_count": 94,
   "metadata": {},
   "outputs": [
    {
     "name": "stdout",
     "output_type": "stream",
     "text": [
      "Mandalay şehrinde product line satın alma eğilimi:\n",
      "Product line\n",
      "Fashion accessories       0.186747\n",
      "Sports and travel         0.186747\n",
      "Electronic accessories    0.165663\n",
      "Health and beauty         0.159639\n",
      "Food and beverages        0.150602\n",
      "Home and lifestyle        0.150602\n",
      "Name: proportion, dtype: float64\n",
      "\n",
      "\n"
     ]
    }
   ],
   "source": [
    "mandalay_product_line = mandalay_df['Product line'].value_counts(normalize=True).sort_values(ascending=False)\n",
    "print(\"Mandalay şehrinde product line satın alma eğilimi:\")\n",
    "print(mandalay_product_line)\n",
    "print(\"\\n\")"
   ]
  },
  {
   "cell_type": "code",
   "execution_count": 95,
   "metadata": {},
   "outputs": [
    {
     "name": "stdout",
     "output_type": "stream",
     "text": [
      "Mandalay şehrinde Cinsiyete göre product line satın alma eğilimi:\n",
      "\n",
      "Female:\n",
      "Product line\n",
      "Fashion accessories       0.203704\n",
      "Sports and travel         0.185185\n",
      "Food and beverages        0.179012\n",
      "Electronic accessories    0.172840\n",
      "Home and lifestyle        0.135802\n",
      "Health and beauty         0.123457\n",
      "Name: proportion, dtype: float64\n",
      "\n",
      "Male:\n",
      "Product line\n",
      "Health and beauty         0.194118\n",
      "Sports and travel         0.188235\n",
      "Fashion accessories       0.170588\n",
      "Home and lifestyle        0.164706\n",
      "Electronic accessories    0.158824\n",
      "Food and beverages        0.123529\n",
      "Name: proportion, dtype: float64\n",
      "\n",
      "\n"
     ]
    }
   ],
   "source": [
    "mandalay_product_line_by_gender = mandalay_df.groupby('Gender')['Product line'].value_counts(normalize=True)\n",
    "print(\"Mandalay şehrinde Cinsiyete göre product line satın alma eğilimi:\")\n",
    "for gender in ['Female', 'Male']:\n",
    "    print(f\"\\n{gender}:\")\n",
    "    print(mandalay_product_line_by_gender[gender].sort_values(ascending=False))\n",
    "print(\"\\n\")"
   ]
  },
  {
   "cell_type": "code",
   "execution_count": 96,
   "metadata": {},
   "outputs": [
    {
     "name": "stdout",
     "output_type": "stream",
     "text": [
      "Mandalay şehrinde prodcut line para harcama eğilimi:\n",
      "Product line\n",
      "Sports and travel         0.188217\n",
      "Health and beauty         0.188146\n",
      "Home and lifestyle        0.165250\n",
      "Electronic accessories    0.160563\n",
      "Fashion accessories       0.154554\n",
      "Food and beverages        0.143270\n",
      "Name: Total, dtype: float64\n",
      "\n",
      "\n"
     ]
    }
   ],
   "source": [
    "mandalay_spending = mandalay_df.groupby('Product line')['Total'].sum().sort_values(ascending=False)\n",
    "mandalay_spending /= mandalay_spending.sum()\n",
    "print(\"Mandalay şehrinde prodcut line para harcama eğilimi:\")\n",
    "print(mandalay_spending)\n",
    "print(\"\\n\")"
   ]
  },
  {
   "cell_type": "code",
   "execution_count": 97,
   "metadata": {},
   "outputs": [
    {
     "name": "stdout",
     "output_type": "stream",
     "text": [
      "Mandalay şehrinde cinsiyete göre product line para harcama eğilimi:\n",
      "\n",
      "Female:\n",
      "Gender  Product line          \n",
      "Female  Food and beverages        0.198570\n",
      "        Home and lifestyle        0.180568\n",
      "        Sports and travel         0.174062\n",
      "        Fashion accessories       0.171581\n",
      "        Electronic accessories    0.154294\n",
      "        Health and beauty         0.120925\n",
      "Name: Total, dtype: float64\n",
      "\n",
      "Male:\n",
      "Gender  Product line          \n",
      "Male    Health and beauty         0.254937\n",
      "        Sports and travel         0.202281\n",
      "        Electronic accessories    0.166792\n",
      "        Home and lifestyle        0.150031\n",
      "        Fashion accessories       0.137637\n",
      "        Food and beverages        0.088323\n",
      "Name: Total, dtype: float64\n"
     ]
    }
   ],
   "source": [
    "mandalay_spending_by_gender = mandalay_df.groupby(['Gender', 'Product line'])['Total'].sum()\n",
    "mandalay_spending_by_gender = mandalay_spending_by_gender.groupby(level=0).apply(lambda x: x / x.sum())\n",
    "print(\"Mandalay şehrinde cinsiyete göre product line para harcama eğilimi:\")\n",
    "for gender in ['Female', 'Male']:\n",
    "    print(f\"\\n{gender}:\")\n",
    "    print(mandalay_spending_by_gender[gender].sort_values(ascending=False))"
   ]
  },
  {
   "attachments": {},
   "cell_type": "markdown",
   "metadata": {},
   "source": [
    "Sonuç:\n",
    "\n",
    "* ### Elimizdeki verilerin 3 farklı şehirden alındığı ve 6 farklı kategöriyi değerlendirdiğini anladık.\n",
    "* ### Ülke genelinde Sırasıyla\t%17,8\n",
    "* ### 1.Fashion accessories \t%17,4\n",
    "* ### 2.Food and beverages \t%17,0\n",
    "* ### 3.Electronic accessories\t%16,6\n",
    "* ### 4.Sports and travel \t%16,0\n",
    "* ### 5 Health and beauty \t%15,2\n",
    "\n",
    "---\n",
    "---\n",
    "\n",
    "\n",
    "* ### Ülke genelinde kategorilere göre para harcama eğilimi:\n",
    "* ### Food and beverages        0.173841\n",
    "* ### Sports and travel         0.170676\n",
    "* ### Electronic accessories    0.168245\n",
    "* ### Fashion accessories       0.168147\n",
    "* ### Home and lifestyle        0.166772\n",
    "* ### Health and beauty         0.152318\n",
    "\n",
    "---\n",
    "---\n",
    "\n",
    "\n",
    "* ### Şehirlere göre para harcama(satın alma eğilimi değil total harcanan paralara göre) Kategorilere göre eğiliminin sırası ile.\n",
    "* ### Health and beauty için şehirlerdeki para harcama eğilimi:\n",
    "* ### Mandalay     0.406163\n",
    "* ### Naypyitaw    0.337753\n",
    "* ### Yangon       0.256084\n",
    "\n",
    "---\n",
    "\n",
    "\n",
    "* ### Electronic accessories için şehirlerdeki para harcama eğilimi:\n",
    "* ### City\n",
    "* ### Naypyitaw    0.349095\n",
    "* ### Yangon       0.337099\n",
    "* ### Mandalay     0.313806\n",
    "---\n",
    "\n",
    "* ### Home and lifestyle için şehirlerdeki para harcama eğilimi:\n",
    "* ### City\n",
    "* ### Yangon       0.416198\n",
    "* ### Mandalay     0.325818\n",
    "* ### Naypyitaw    0.257985\n",
    "---\n",
    "\n",
    "* ### Sports and travel için şehirlerdeki para harcama eğilimi:\n",
    "* ### City\n",
    "* ### Mandalay     0.362612\n",
    "* ### Yangon       0.351446\n",
    "* ### Naypyitaw    0.285942\n",
    "---\n",
    "\n",
    "\n",
    "* ### Food and beverages için şehirlerdeki para harcama eğilimi:\n",
    "* ### City\n",
    "* ### Naypyitaw    0.423313\n",
    "* ### Yangon       0.305693\n",
    "* ### Mandalay     0.270994\n",
    "\n",
    "---\n",
    "\n",
    "* ### Fashion accessories için şehirlerdeki para harcama eğilimi:\n",
    "* ### City\n",
    "* ### Naypyitaw    0.397012\n",
    "* ### Mandalay     0.302238\n",
    "* ### Yangon       0.300750\n",
    "\n",
    "---\n",
    "---\n",
    "\n",
    "* ### Ülke genelinde kadınların kategorilere göre satın alma eğilimleri:\n",
    "* ### Fashion accessories     0.191617\n",
    "* ### Food and beverages      0.179641\n",
    "* ### Sports and travel       0.175649\n",
    "* ### Electronic accessories  0.167665\n",
    "* ### Home and lifestyle      0.157685\n",
    "* ### Health and beauty       0.127745\n",
    "---\n",
    "\n",
    "* ### Ülke genelinde erkeklerin kategorilere göre satın alma eğilimleri:\n",
    "* ### Health and beauty       0.176353\n",
    "* ### Electronic accessories  0.172345\n",
    "* ### Food and beverages      0.168337\n",
    "* ### Fashion accessories     0.164329\n",
    "* ### Home and lifestyle      0.162325\n",
    "* ### Sports and travel       0.156313\n",
    "---\n",
    "---\n",
    "\n",
    "* ### Ülke genelindeki cinsiyetlere göre product line para harcama eğilimi:\n",
    "* ###    Erkekler\n",
    "* ###    Gender            Product line     Total_x     Total_y  Spending tendency\n",
    "* ###     Male       Health and beauty  30632.7525  155083.824           0.197524\n",
    "* ###     Male  Electronic accessories  27235.5090  155083.824           0.175618\n",
    "* ###     Male       Sports and travel  26548.1055  155083.824           0.171186\n",
    "* ###     Male     Fashion accessories  23868.4950  155083.824           0.153907\n",
    "* ###     Male      Home and lifestyle  23825.0355  155083.824           0.153627\n",
    "* ###     Male      Food and beverages  22973.9265  155083.824           0.148139\n",
    "---\n",
    "\n",
    "* ###     Kadınlar\n",
    "* ###     Gender            Product line     Total_x     Total_y  Spending tendency\n",
    "* ###     Female      Food and beverages  33170.9175  167882.925           0.197584\n",
    "* ###     Female     Fashion accessories  30437.4000  167882.925           0.181301\n",
    "* ###     Female      Home and lifestyle  30036.8775  167882.925           0.178916\n",
    "* ###     Female       Sports and travel  28574.7210  167882.925           0.170206\n",
    "* ###     Female  Electronic accessories  27102.0225  167882.925           0.161434\n",
    "* ###     Female       Health and beauty  18560.9865  167882.925           0.110559\n",
    "\n",
    "---\n",
    "---\n",
    "\n",
    "* ### Yangan şehrinde product line satın alma eğilimi:\n",
    "* ### Product line\n",
    "* ### Home and lifestyle        0.191176\n",
    "* ### Electronic accessories    0.176471\n",
    "* ### Sports and travel         0.173529\n",
    "* ### Food and beverages        0.170588\n",
    "* ### Fashion accessories       0.150000\n",
    "* ### Health and beauty         0.138235  \n",
    "---\n",
    "\n",
    "* ### Yangan şehrinde Cinsiyete göre product line satın alma eğilimi:\n",
    "\n",
    "* ### Female:\n",
    "* ### Product line\n",
    "* ### Home and lifestyle        0.198758\n",
    "* ### Sports and travel         0.180124\n",
    "* ### Electronic accessories    0.173913\n",
    "* ### Fashion accessories       0.173913\n",
    "* ### Food and beverages        0.142857\n",
    "* ### Health and beauty         0.130435\n",
    "---\n",
    "\n",
    "* ### Male:\n",
    "* ### Product line\n",
    "* ### Food and beverages        0.195531\n",
    "* ### Home and lifestyle        0.184358\n",
    "* ### Electronic accessories    0.178771\n",
    "* ### Sports and travel         0.167598\n",
    "* ### Health and beauty         0.145251\n",
    "* ### Fashion accessories       0.128492\n",
    "\n",
    "* ### Yangan şehrinde product line para harcama eğilimi:\n",
    "* ### Product line\n",
    "* ### Home and lifestyle        0.211084\n",
    "* ### Sports and travel         0.182416\n",
    "* ### Electronic accessories    0.172477\n",
    "* ### Food and beverages        0.161611\n",
    "* ### Fashion accessories       0.153790\n",
    "* ### Health and beauty         0.118622\n",
    "\n",
    "---\n",
    "\n",
    "* ### Yangan şehrinde cinsiyete göre product line para harcama eğilimi:\n",
    "\n",
    "* ### Female:\n",
    "* ### Gender  Product line          \n",
    "* ### Electronic accessories    0.187093\n",
    "* ### Fashion accessories       0.184651\n",
    "* ### Sports and travel         0.152343\n",
    "* ### Food and beverages        0.131404\n",
    "* ### Health and beauty         0.107283\n",
    "\n",
    "\n",
    "* ### Male:\n",
    "* ### Gender  Product line          \n",
    "* ### Male    Sports and travel         0.212682\n",
    "* ### Food and beverages        0.192010\n",
    "* ### Home and lifestyle        0.184775\n",
    "* ### Electronic accessories    0.157767\n",
    "* ### Health and beauty         0.130034\n",
    "* ### Fashion accessories       0.122731\n",
    "---\n",
    "---\n",
    "\n",
    "\n",
    "* ### Naypyitaw şehrinde product line satın alma eğilimi:\n",
    "* ### Product line\n",
    "* ### Food and beverages        0.201220\n",
    "* ### Fashion accessories       0.198171\n",
    "* ### Electronic accessories    0.167683\n",
    "* ### Health and beauty         0.158537\n",
    "* ### Home and lifestyle        0.137195\n",
    "* ### Sports and travel         0.137195\n",
    "\n",
    "---\n",
    "\n",
    "* ### Naypyitaw şehrinde Cinsiyete göre product line satın alma eğilimi:\n",
    "\n",
    "* ### Female:\n",
    "* ### Product line\n",
    "* ### Food and beverages        0.213483\n",
    "* ### Fashion accessories       0.196629\n",
    "* ### Sports and travel         0.162921\n",
    "* ### Electronic accessories    0.157303\n",
    "* ### Home and lifestyle        0.140449\n",
    "* ### Health and beauty         0.129213\n",
    "\n",
    "\n",
    "* ### Male:\n",
    "* ### Product line\n",
    "* ### Fashion accessories       0.200000\n",
    "* ### Health and beauty         0.193333\n",
    "* ### Food and beverages        0.186667\n",
    "* ### Electronic accessories    0.180000\n",
    "* ### Home and lifestyle        0.133333\n",
    "* ### Sports and travel         0.106667\n",
    "\n",
    "---\n",
    "\n",
    "* ### Naypyitaw şehrinde prodcut line para harcama eğilimi:\n",
    "* ### Product line\n",
    "* ### Food and beverages        0.214951\n",
    "* ### Fashion accessories       0.194993\n",
    "* ### Electronic accessories    0.171558\n",
    "* ### Health and beauty         0.150272\n",
    "* ### Sports and travel         0.142553\n",
    "* ### Home and lifestyle        0.125673\n",
    "\n",
    "---\n",
    "\n",
    "* ### Naypyitaw şehrinde cinsiyete göre product line para harcama eğilimi:\n",
    "\n",
    "* ### Female:\n",
    "* ### Gender  Product line          \n",
    "* ### Female  Food and beverages        0.253887\n",
    "* ###         Fashion accessories       0.186749\n",
    "* ###         Sports and travel         0.182324\n",
    "* ###         Electronic accessories    0.145402\n",
    "* ###        Home and lifestyle        0.127144\n",
    "* ###         Health and beauty         0.104494\n",
    "\n",
    "* ### Male:\n",
    "* ### Gender  Product line          \n",
    "* ### Male    Health and beauty         0.208038\n",
    "* ###         Fashion accessories       0.205395\n",
    "* ###         Electronic accessories    0.204564\n",
    "* ###         Food and beverages        0.165817\n",
    "* ###         Home and lifestyle        0.123818\n",
    "* ###         Sports and travel         0.092367\n",
    "\n",
    "---\n",
    "---\n",
    "\n",
    "* ### Mandalay şehrinde product line satın alma eğilimi:\n",
    "* ### Product line\n",
    "* ### Fashion accessories       0.186747\n",
    "* ### Sports and travel         0.186747\n",
    "* ### Electronic accessories    0.165663\n",
    "* ### Health and beauty         0.159639\n",
    "* ### Food and beverages        0.150602\n",
    "* ### Home and lifestyle        0.150602\n",
    "---\n",
    "\n",
    "\n",
    "* ### Mandalay şehrinde Cinsiyete göre product line satın alma eğilimi:\n",
    "\n",
    "* ### Female:\n",
    "* ### Product line\n",
    "* ### Fashion accessories       0.203704\n",
    "* ### Sports and travel         0.185185\n",
    "* ### Food and beverages        0.179012\n",
    "* ### Electronic accessories    0.172840\n",
    "* ### Home and lifestyle        0.135802\n",
    "* ### Health and beauty         0.123457\n",
    "\n",
    "\n",
    "\n",
    "* ### Male:\n",
    "* ### Product line\n",
    "* ### Health and beauty         0.194118\n",
    "* ### Sports and travel         0.188235\n",
    "* ### Fashion accessories       0.170588\n",
    "* ### Home and lifestyle        0.164706\n",
    "* ### Electronic accessories    0.158824\n",
    "* ### Food and beverages        0.123529\n",
    "\n",
    "\n",
    "* ### Mandalay şehrinde prodcut line para harcama eğilimi:\n",
    "* ### Product line\n",
    "* ### Sports and travel         0.188217\n",
    "* ### Health and beauty         0.188146\n",
    "* ### Home and lifestyle        0.165250\n",
    "* ### Electronic accessories    0.160563\n",
    "* ### Fashion accessories       0.154554\n",
    "* ### Food and beverages        0.143270\n",
    "---\n",
    "\n",
    "\n",
    "* ### Mandalay şehrinde cinsiyete göre product line para harcama eğilimi:\n",
    "\n",
    "* ### Female:\n",
    "* ### Gender  Product line          \n",
    "* ### Female  Food and beverages        0.198570\n",
    "* ###         Home and lifestyle        0.180568\n",
    "* ###         Sports and travel         0.174062\n",
    "* ###         Fashion accessories       0.171581\n",
    "* ###         Electronic accessories    0.154294\n",
    "* ###         Health and beauty         0.120925\n",
    "\n",
    "* ### Male:\n",
    "* ### Gender  Product line          \n",
    "* ### Male    Health and beauty         0.254937\n",
    "* ###         Sports and travel         0.202281\n",
    "* ###         Electronic accessories    0.166792\n",
    "* ###         Home and lifestyle        0.150031\n",
    "* ###         Fashion accessories       0.137637\n",
    "* ###         Food and beverages        0.088323\n",
    "---\n",
    "---\n"
   ]
  }
 ],
 "metadata": {
  "kernelspec": {
   "display_name": "Python 3",
   "language": "python",
   "name": "python3"
  },
  "language_info": {
   "codemirror_mode": {
    "name": "ipython",
    "version": 3
   },
   "file_extension": ".py",
   "mimetype": "text/x-python",
   "name": "python",
   "nbconvert_exporter": "python",
   "pygments_lexer": "ipython3",
   "version": "3.8.10"
  },
  "orig_nbformat": 4
 },
 "nbformat": 4,
 "nbformat_minor": 2
}
